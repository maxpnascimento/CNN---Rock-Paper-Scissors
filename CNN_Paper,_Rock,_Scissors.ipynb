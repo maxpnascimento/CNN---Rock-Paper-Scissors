{
  "nbformat": 4,
  "nbformat_minor": 0,
  "metadata": {
    "colab": {
      "name": "CNN - Paper, Rock, Scissors.ipynb",
      "provenance": []
    },
    "kernelspec": {
      "name": "python3",
      "display_name": "Python 3"
    },
    "accelerator": "GPU"
  },
  "cells": [
    {
      "cell_type": "markdown",
      "metadata": {
        "id": "ZkExa-62Jce4"
      },
      "source": [
        "# **CNN - paper, rock, scissors**\n",
        "___\n",
        "- Convolution Neural Network for rock/paper/scissors recognition.\n",
        "\n",
        "author: Max Nascimento\n",
        "\n",
        "linkedin: linkedin.com/in/max-nascimento-4b19ba109\n",
        "\n",
        "email: maxpnascimento@gmail.com\n",
        "\n",
        "\n",
        "---\n",
        "\n",
        "\n",
        "---\n",
        " Reference:\n",
        "Copyright 2019 The TensorFlow Authors\n",
        "https://colab.research.google.com/github/lmoroney/dlaicourse/blob/master/Course%202%20-%20Part%208%20-%20Lesson%202%20-%20Notebook%20(RockPaperScissors).ipynb#scrollTo=rX8mhOLljYeM\n"
      ]
    },
    {
      "cell_type": "markdown",
      "metadata": {
        "id": "6-kFkqvoJ930"
      },
      "source": [
        "**Libraries**\n",
        "\n",
        "---\n",
        "\n"
      ]
    },
    {
      "cell_type": "code",
      "metadata": {
        "id": "4Bzap-goI_Y4"
      },
      "source": [
        "#Libraries\n",
        "import tensorflow as tf\n",
        "import keras_preprocessing\n",
        "from keras_preprocessing import image\n",
        "from keras_preprocessing.image import ImageDataGenerator\n",
        "import numpy as np\n",
        "import matplotlib.pyplot as plt\n",
        "import cv2"
      ],
      "execution_count": null,
      "outputs": []
    },
    {
      "cell_type": "markdown",
      "metadata": {
        "id": "AMAYhgbxKm6v"
      },
      "source": [
        "**Date**\n",
        "\n",
        "---\n",
        "\n"
      ]
    },
    {
      "cell_type": "code",
      "metadata": {
        "id": "5jZjGU57KrSP"
      },
      "source": [
        "#Data and dataAugmentation\n",
        "\n",
        "#Train data\n",
        "training_datagen = ImageDataGenerator(                            #Data augmentation\n",
        "      rescale = 1./255,\n",
        "\t    rotation_range=40,\n",
        "      width_shift_range=0.2,\n",
        "      height_shift_range=0.2,\n",
        "      shear_range=0.2,\n",
        "      zoom_range=0.2,\n",
        "      horizontal_flip=True,\n",
        "      fill_mode='nearest')\n",
        "train_generator = training_datagen.flow_from_directory(           #Train generator\n",
        "  \"/content/gdrive/MyDrive/CNN - rps/train\",\n",
        "\ttarget_size=(150,150),\n",
        "\tclass_mode='categorical',\n",
        "  batch_size=126\n",
        ")\n",
        "\n",
        "#Validation data\n",
        "validation_datagen = ImageDataGenerator(rescale = 1./255)\n",
        "validation_generator = validation_datagen.flow_from_directory(    #Validation generator\n",
        "\t\"/content/gdrive/MyDrive/CNN - rps/validation\",\n",
        "\ttarget_size=(150,150),\n",
        "\tclass_mode='categorical',\n",
        "  batch_size=64\n",
        ")\n",
        "\n",
        "#test data\n",
        "test_datagen = ImageDataGenerator(rescale = 1./255)\n",
        "test_generator = test_datagen.flow_from_directory(                 #Test generator\n",
        "\t\"/content/gdrive/MyDrive/CNN - rps/test\",\n",
        "\ttarget_size=(150,150),\n",
        "\tclass_mode='categorical',\n",
        "  batch_size=126\n",
        ")"
      ],
      "execution_count": null,
      "outputs": []
    },
    {
      "cell_type": "markdown",
      "metadata": {
        "id": "kvt2FeLfL6Sf"
      },
      "source": [
        "**CNN - Model**"
      ]
    },
    {
      "cell_type": "code",
      "metadata": {
        "id": "GiCPlAsMKrqs"
      },
      "source": [
        "#Model\n",
        "model = tf.keras.models.Sequential([\n",
        "    tf.keras.layers.Conv2D(32, (3,3), activation='relu', input_shape=(150, 150, 3)),    #1th convolution - 64 filters - strides 3x3 - Relu activation\n",
        "    tf.keras.layers.MaxPooling2D(2, 2),                                                 #MaxPooling layer 2x2\n",
        "    tf.keras.layers.Conv2D(64, (3,3), activation='relu'),          #2th convolution - 128 filters - strides 3x3 - Relu activation\n",
        "    tf.keras.layers.MaxPooling2D(2,2),                              #MaxPooling layer 2x2\n",
        "    tf.keras.layers.Conv2D(64, (3,3), activation='relu'),          #3th convolution - 128 filters - strides 3x3 - Relu activation\n",
        "    tf.keras.layers.MaxPooling2D(2,2),                              #MaxPooling layer 2x2\n",
        "    tf.keras.layers.Conv2D(128, (3,3), activation='relu'),          #4th convolution - 256 filters - strides 3x3 - Relu activation\n",
        "    tf.keras.layers.MaxPooling2D(2,2),                              #MaxPooling layer 2x2\n",
        "\n",
        "    tf.keras.layers.Flatten(),                                      #Flatten\n",
        "    tf.keras.layers.Dropout(0.5),                                   #Dropout 50%\n",
        "    \n",
        "    tf.keras.layers.Dense(512, activation='relu'),                  #Hidden layer - 512 Neurons - Relu activation\n",
        "    tf.keras.layers.Dense(3, activation='softmax')                  #Output layer - 3 Neurons - softmax activation\n",
        "])\n",
        "\n",
        "model.compile(loss = 'categorical_crossentropy', optimizer='rmsprop', metrics=['accuracy'])\n",
        "\n",
        "model.summary()"
      ],
      "execution_count": null,
      "outputs": []
    },
    {
      "cell_type": "code",
      "metadata": {
        "id": "2rVID8lBNUVw"
      },
      "source": [
        "with tf.device('/device:GPU:0'):\n",
        "  history = model.fit(train_generator, epochs=30, steps_per_epoch=10, validation_data = validation_generator, verbose = 1, validation_steps=1)\n"
      ],
      "execution_count": null,
      "outputs": []
    },
    {
      "cell_type": "markdown",
      "metadata": {
        "id": "aTIzItHL3j9N"
      },
      "source": [
        "**Test**"
      ]
    },
    {
      "cell_type": "code",
      "metadata": {
        "id": "2-q5g9YOUX5i"
      },
      "source": [
        "#Test model (Accuracy)\n",
        "model.evaluate(test_generator)"
      ],
      "execution_count": null,
      "outputs": []
    }
  ]
}